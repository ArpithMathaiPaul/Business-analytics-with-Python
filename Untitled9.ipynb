{
  "nbformat": 4,
  "nbformat_minor": 0,
  "metadata": {
    "colab": {
      "provenance": [],
      "include_colab_link": true
    },
    "kernelspec": {
      "name": "python3",
      "display_name": "Python 3"
    },
    "language_info": {
      "name": "python"
    }
  },
  "cells": [
    {
      "cell_type": "markdown",
      "metadata": {
        "id": "view-in-github",
        "colab_type": "text"
      },
      "source": [
        "<a href=\"https://colab.research.google.com/github/ArpithMathaiPaul/Business-analytics-with-Python/blob/main/Untitled9.ipynb\" target=\"_parent\"><img src=\"https://colab.research.google.com/assets/colab-badge.svg\" alt=\"Open In Colab\"/></a>"
      ]
    },
    {
      "cell_type": "code",
      "source": [
        "print(\"Hello DDO\")"
      ],
      "metadata": {
        "colab": {
          "base_uri": "https://localhost:8080/"
        },
        "id": "WOjAtlWKCzBG",
        "outputId": "4f21d1d8-7622-4b23-fc13-d28df879d0af"
      },
      "execution_count": null,
      "outputs": [
        {
          "output_type": "stream",
          "name": "stdout",
          "text": [
            "Hello DDO\n"
          ]
        }
      ]
    },
    {
      "cell_type": "code",
      "source": [
        "x=\"India\""
      ],
      "metadata": {
        "id": "VVzcABQRErFg"
      },
      "execution_count": null,
      "outputs": []
    },
    {
      "cell_type": "code",
      "source": [
        "type(x)"
      ],
      "metadata": {
        "colab": {
          "base_uri": "https://localhost:8080/"
        },
        "id": "q1fKQazbFBQA",
        "outputId": "329da30c-de12-4969-d285-628d272b2cc9"
      },
      "execution_count": null,
      "outputs": [
        {
          "output_type": "execute_result",
          "data": {
            "text/plain": [
              "str"
            ]
          },
          "metadata": {},
          "execution_count": 17
        }
      ]
    },
    {
      "cell_type": "code",
      "source": [
        "x=10"
      ],
      "metadata": {
        "id": "xuG5OJNlFENZ"
      },
      "execution_count": null,
      "outputs": []
    },
    {
      "cell_type": "code",
      "source": [
        "x"
      ],
      "metadata": {
        "colab": {
          "base_uri": "https://localhost:8080/"
        },
        "id": "Q2wlLGMvF8MP",
        "outputId": "700c2e55-a4ab-40e6-fc68-88670b6807a4"
      },
      "execution_count": null,
      "outputs": [
        {
          "output_type": "execute_result",
          "data": {
            "text/plain": [
              "10"
            ]
          },
          "metadata": {},
          "execution_count": 25
        }
      ]
    },
    {
      "cell_type": "code",
      "source": [
        "x=int(input(\"Enter a namer\"))"
      ],
      "metadata": {
        "colab": {
          "base_uri": "https://localhost:8080/"
        },
        "id": "VI58JJOSF_G_",
        "outputId": "5941e464-a2a4-4903-e401-7c71430b49ba"
      },
      "execution_count": null,
      "outputs": [
        {
          "name": "stdout",
          "output_type": "stream",
          "text": [
            "Enter a namer34\n"
          ]
        }
      ]
    },
    {
      "cell_type": "code",
      "source": [
        "x"
      ],
      "metadata": {
        "colab": {
          "base_uri": "https://localhost:8080/"
        },
        "id": "Kl3GJZjXGElH",
        "outputId": "f157f6ce-39a2-495d-9b19-a619633c41ea"
      },
      "execution_count": null,
      "outputs": [
        {
          "output_type": "execute_result",
          "data": {
            "text/plain": [
              "10"
            ]
          },
          "metadata": {},
          "execution_count": 31
        }
      ]
    },
    {
      "cell_type": "code",
      "source": [
        "type(x)"
      ],
      "metadata": {
        "colab": {
          "base_uri": "https://localhost:8080/"
        },
        "id": "khMHESP4GKIv",
        "outputId": "1715b30a-cf3b-4c13-94f6-8fa64a1f94da"
      },
      "execution_count": null,
      "outputs": [
        {
          "output_type": "execute_result",
          "data": {
            "text/plain": [
              "int"
            ]
          },
          "metadata": {},
          "execution_count": 32
        }
      ]
    },
    {
      "cell_type": "code",
      "source": [
        "x=int(input(\"Enter first : \"))\n",
        "y=int(input(\"Enter second : \"))"
      ],
      "metadata": {
        "colab": {
          "base_uri": "https://localhost:8080/"
        },
        "id": "axgwT6AzGZYu",
        "outputId": "bed18ae2-2774-4a3b-e757-ad082844becf"
      },
      "execution_count": null,
      "outputs": [
        {
          "name": "stdout",
          "output_type": "stream",
          "text": [
            "Enter first : 44\n",
            "Enter second : 45\n"
          ]
        }
      ]
    },
    {
      "cell_type": "code",
      "source": [
        "print(\"Mul =\", x*y)\n",
        "print(\"Add =\", x+y)\n",
        "print(\"Div =\", x/y)\n",
        "print(\"Sub =\", x-y)"
      ],
      "metadata": {
        "colab": {
          "base_uri": "https://localhost:8080/"
        },
        "id": "lKp_tHFVHWam",
        "outputId": "f7f73dc9-b2f9-42f6-a6ac-8cb6293b3a4b"
      },
      "execution_count": null,
      "outputs": [
        {
          "output_type": "stream",
          "name": "stdout",
          "text": [
            "Mul = 1980\n",
            "Add = 89\n",
            "Div = 0.9777777777777777\n",
            "Sub = -1\n"
          ]
        }
      ]
    },
    {
      "cell_type": "code",
      "source": [
        "x=int(input(\" Enter your mark for accountancy : \"))\n",
        "if x > 50 :\n",
        "  print(\"You are passed\")\n",
        "if x < 50 :\n",
        "  print(\"You are failed\")"
      ],
      "metadata": {
        "colab": {
          "base_uri": "https://localhost:8080/"
        },
        "id": "65Wl5HEEHkWO",
        "outputId": "327ebb8c-3c2b-42db-fc11-81cf7d39803c"
      },
      "execution_count": null,
      "outputs": [
        {
          "output_type": "stream",
          "name": "stdout",
          "text": [
            " Enter your mark for accountancy : 76\n",
            "You are passed\n"
          ]
        }
      ]
    },
    {
      "cell_type": "code",
      "source": [
        "x=int(input(\" Enter your Salary : \"))\n",
        "if x > 250000 :\n",
        "  print(\"You are taxable\")\n",
        "if x < 250000 :\n",
        "  print(\"You are not taxable\")"
      ],
      "metadata": {
        "colab": {
          "base_uri": "https://localhost:8080/"
        },
        "id": "xF5yvPgJHws9",
        "outputId": "78c83b86-e18e-45b8-dd74-e8352cb194f1"
      },
      "execution_count": null,
      "outputs": [
        {
          "output_type": "stream",
          "name": "stdout",
          "text": [
            " Enter your Salary : 5345345435\n",
            "You are taxable\n"
          ]
        }
      ]
    },
    {
      "cell_type": "code",
      "source": [
        "x=int(input(\" Enter your Salary : \"))\n",
        "if x < 250000 :\n",
        "  print(\"You are not taxable\")\n",
        "if x > 250000 & x< 500000 :\n",
        "  print(\"You are taxable\")\n",
        "  print((x-250000)*10/100)\n",
        "if x>500000 :\n",
        "  print(\"You are taxable\")\n",
        "  print(((x-500000)*20/100)+(x-250000)*10/100)\n"
      ],
      "metadata": {
        "colab": {
          "base_uri": "https://localhost:8080/"
        },
        "id": "zB4LQGfyI149",
        "outputId": "447fd6f9-543f-4f53-d890-0905b5580dd5"
      },
      "execution_count": null,
      "outputs": [
        {
          "output_type": "stream",
          "name": "stdout",
          "text": [
            " Enter your Salary : 300000\n",
            "You are taxable\n",
            "5000.0\n"
          ]
        }
      ]
    },
    {
      "cell_type": "code",
      "source": [
        "x=0\n",
        "total=0\n",
        "while x <10 :\n",
        "  total=total+x\n",
        "  x=x+1 \n",
        "  print(total)\n",
        "# x = 3, total = 3"
      ],
      "metadata": {
        "colab": {
          "base_uri": "https://localhost:8080/"
        },
        "id": "WTbeaKEYJJt2",
        "outputId": "f1f58eac-3b85-4210-c8ab-483181f6ac86"
      },
      "execution_count": null,
      "outputs": [
        {
          "output_type": "stream",
          "name": "stdout",
          "text": [
            "0\n",
            "1\n",
            "3\n",
            "6\n",
            "10\n",
            "15\n",
            "21\n",
            "28\n",
            "36\n",
            "45\n"
          ]
        }
      ]
    },
    {
      "cell_type": "code",
      "source": [],
      "metadata": {
        "id": "u8-gvtIsKYt9"
      },
      "execution_count": null,
      "outputs": []
    }
  ]
}