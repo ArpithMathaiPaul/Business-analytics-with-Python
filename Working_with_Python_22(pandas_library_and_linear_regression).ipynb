{
  "nbformat": 4,
  "nbformat_minor": 0,
  "metadata": {
    "colab": {
      "provenance": [],
      "authorship_tag": "ABX9TyNBzO32fYqZcxJpdNu7JVbw",
      "include_colab_link": true
    },
    "kernelspec": {
      "name": "python3",
      "display_name": "Python 3"
    },
    "language_info": {
      "name": "python"
    }
  },
  "cells": [
    {
      "cell_type": "markdown",
      "metadata": {
        "id": "view-in-github",
        "colab_type": "text"
      },
      "source": [
        "<a href=\"https://colab.research.google.com/github/ArpithMathaiPaul/Business-analytics-with-Python/blob/main/Working_with_Python_22(pandas_library_and_linear_regression).ipynb\" target=\"_parent\"><img src=\"https://colab.research.google.com/assets/colab-badge.svg\" alt=\"Open In Colab\"/></a>"
      ]
    },
    {
      "cell_type": "code",
      "execution_count": null,
      "metadata": {
        "id": "G1n6z4vx_Teu"
      },
      "outputs": [],
      "source": [
        "import numpy as np\n",
        "import matplotlib.pyplot as plt\n",
        "import pandas as pd"
      ]
    },
    {
      "cell_type": "code",
      "source": [
        "dataset=pd.read_csv('TATAMOTORS.NS.csv')"
      ],
      "metadata": {
        "id": "1spGZh-QDk0j"
      },
      "execution_count": null,
      "outputs": []
    },
    {
      "cell_type": "code",
      "source": [
        "x = dataset.iloc[:, :-1].values\n",
        "\n"
      ],
      "metadata": {
        "id": "ct4klqvvEp51"
      },
      "execution_count": null,
      "outputs": []
    },
    {
      "cell_type": "code",
      "source": [
        "x"
      ],
      "metadata": {
        "colab": {
          "base_uri": "https://localhost:8080/"
        },
        "id": "nLxYju1ZE-5U",
        "outputId": "f9dc8c35-cef9-42e0-8646-6747cebea6ef"
      },
      "execution_count": null,
      "outputs": [
        {
          "output_type": "execute_result",
          "data": {
            "text/plain": [
              "array([[  1.],\n",
              "       [  2.],\n",
              "       [  3.],\n",
              "       [  4.],\n",
              "       [  5.],\n",
              "       [  6.],\n",
              "       [  7.],\n",
              "       [  8.],\n",
              "       [  9.],\n",
              "       [ 10.],\n",
              "       [ 11.],\n",
              "       [ 12.],\n",
              "       [ 13.],\n",
              "       [ 14.],\n",
              "       [ 15.],\n",
              "       [ 16.],\n",
              "       [ 17.],\n",
              "       [ 18.],\n",
              "       [ 19.],\n",
              "       [ 20.],\n",
              "       [ 21.],\n",
              "       [ 22.],\n",
              "       [ 23.],\n",
              "       [ 24.],\n",
              "       [ 25.],\n",
              "       [ 26.],\n",
              "       [ 27.],\n",
              "       [ 28.],\n",
              "       [ 29.],\n",
              "       [ 30.],\n",
              "       [ 31.],\n",
              "       [ 32.],\n",
              "       [ 33.],\n",
              "       [ 34.],\n",
              "       [ 35.],\n",
              "       [ 36.],\n",
              "       [ 37.],\n",
              "       [ 38.],\n",
              "       [ 39.],\n",
              "       [ 40.],\n",
              "       [ 41.],\n",
              "       [ 42.],\n",
              "       [ 43.],\n",
              "       [ 44.],\n",
              "       [ 45.],\n",
              "       [ 46.],\n",
              "       [ 47.],\n",
              "       [ 48.],\n",
              "       [ 49.],\n",
              "       [ 50.],\n",
              "       [ 51.],\n",
              "       [ 52.],\n",
              "       [ 53.],\n",
              "       [ 54.],\n",
              "       [ 55.],\n",
              "       [ 56.],\n",
              "       [ 57.],\n",
              "       [ 58.],\n",
              "       [ 59.],\n",
              "       [ 60.],\n",
              "       [ 61.],\n",
              "       [ 62.],\n",
              "       [ 63.],\n",
              "       [ 64.],\n",
              "       [ 65.],\n",
              "       [ 66.],\n",
              "       [ 67.],\n",
              "       [ 68.],\n",
              "       [ 69.],\n",
              "       [ 70.],\n",
              "       [ 71.],\n",
              "       [ 72.],\n",
              "       [ 73.],\n",
              "       [ 74.],\n",
              "       [ 75.],\n",
              "       [ 76.],\n",
              "       [ 77.],\n",
              "       [ 78.],\n",
              "       [ 79.],\n",
              "       [ 80.],\n",
              "       [ 81.],\n",
              "       [ 82.],\n",
              "       [ 83.],\n",
              "       [ 84.],\n",
              "       [ 85.],\n",
              "       [ 86.],\n",
              "       [ 87.],\n",
              "       [ 88.],\n",
              "       [ 89.],\n",
              "       [ 90.],\n",
              "       [ 91.],\n",
              "       [ 92.],\n",
              "       [ 93.],\n",
              "       [ 94.],\n",
              "       [ 95.],\n",
              "       [ 96.],\n",
              "       [ 97.],\n",
              "       [ 98.],\n",
              "       [ 99.],\n",
              "       [100.],\n",
              "       [101.],\n",
              "       [102.],\n",
              "       [103.],\n",
              "       [104.],\n",
              "       [105.],\n",
              "       [106.],\n",
              "       [107.],\n",
              "       [108.],\n",
              "       [109.],\n",
              "       [110.],\n",
              "       [111.],\n",
              "       [112.],\n",
              "       [113.],\n",
              "       [114.],\n",
              "       [115.],\n",
              "       [116.],\n",
              "       [117.],\n",
              "       [118.],\n",
              "       [119.],\n",
              "       [120.],\n",
              "       [121.],\n",
              "       [122.],\n",
              "       [123.],\n",
              "       [124.],\n",
              "       [125.],\n",
              "       [126.],\n",
              "       [127.],\n",
              "       [128.],\n",
              "       [129.],\n",
              "       [130.],\n",
              "       [131.],\n",
              "       [132.],\n",
              "       [133.],\n",
              "       [134.],\n",
              "       [135.],\n",
              "       [136.],\n",
              "       [137.],\n",
              "       [138.],\n",
              "       [139.],\n",
              "       [140.],\n",
              "       [141.],\n",
              "       [142.],\n",
              "       [143.],\n",
              "       [144.],\n",
              "       [145.],\n",
              "       [146.],\n",
              "       [147.],\n",
              "       [148.],\n",
              "       [149.],\n",
              "       [150.],\n",
              "       [151.],\n",
              "       [152.],\n",
              "       [153.],\n",
              "       [154.],\n",
              "       [155.],\n",
              "       [156.],\n",
              "       [157.],\n",
              "       [158.],\n",
              "       [159.],\n",
              "       [160.],\n",
              "       [161.],\n",
              "       [162.],\n",
              "       [163.],\n",
              "       [164.],\n",
              "       [165.],\n",
              "       [166.],\n",
              "       [167.],\n",
              "       [168.],\n",
              "       [169.],\n",
              "       [170.],\n",
              "       [171.],\n",
              "       [172.],\n",
              "       [173.],\n",
              "       [174.],\n",
              "       [175.],\n",
              "       [176.],\n",
              "       [177.],\n",
              "       [178.],\n",
              "       [179.],\n",
              "       [180.],\n",
              "       [181.],\n",
              "       [182.],\n",
              "       [183.],\n",
              "       [184.],\n",
              "       [185.],\n",
              "       [186.],\n",
              "       [187.],\n",
              "       [188.],\n",
              "       [189.],\n",
              "       [190.],\n",
              "       [191.],\n",
              "       [192.],\n",
              "       [193.],\n",
              "       [194.],\n",
              "       [195.],\n",
              "       [196.],\n",
              "       [197.],\n",
              "       [198.],\n",
              "       [199.],\n",
              "       [200.],\n",
              "       [201.],\n",
              "       [202.],\n",
              "       [203.],\n",
              "       [204.],\n",
              "       [205.],\n",
              "       [206.],\n",
              "       [207.],\n",
              "       [208.],\n",
              "       [209.],\n",
              "       [210.],\n",
              "       [211.],\n",
              "       [212.],\n",
              "       [213.],\n",
              "       [214.],\n",
              "       [215.],\n",
              "       [216.],\n",
              "       [217.],\n",
              "       [218.],\n",
              "       [219.],\n",
              "       [220.],\n",
              "       [221.],\n",
              "       [222.],\n",
              "       [223.],\n",
              "       [224.],\n",
              "       [225.],\n",
              "       [226.],\n",
              "       [227.],\n",
              "       [228.],\n",
              "       [229.],\n",
              "       [230.],\n",
              "       [231.],\n",
              "       [232.],\n",
              "       [233.],\n",
              "       [234.],\n",
              "       [235.],\n",
              "       [236.],\n",
              "       [237.],\n",
              "       [238.],\n",
              "       [239.],\n",
              "       [240.],\n",
              "       [241.],\n",
              "       [242.],\n",
              "       [243.],\n",
              "       [244.],\n",
              "       [245.],\n",
              "       [246.],\n",
              "       [247.],\n",
              "       [248.],\n",
              "       [249.]])"
            ]
          },
          "metadata": {},
          "execution_count": 4
        }
      ]
    },
    {
      "cell_type": "code",
      "source": [
        "y = dataset.iloc[:, -1].values\n"
      ],
      "metadata": {
        "id": "ke03Kn_SFGqE"
      },
      "execution_count": null,
      "outputs": []
    },
    {
      "cell_type": "code",
      "source": [
        "y"
      ],
      "metadata": {
        "colab": {
          "base_uri": "https://localhost:8080/"
        },
        "id": "_Ut-Vm27G-9r",
        "outputId": "d0e882b9-3848-4dc4-e918-9d5ab1e197de"
      },
      "execution_count": null,
      "outputs": [
        {
          "output_type": "execute_result",
          "data": {
            "text/plain": [
              "array([445.      , 452.950012, 458.5     , 431.850006, 401.75    ,\n",
              "       390.5     , 394.950012, 427.      , 413.600006, 418.75    ,\n",
              "       409.850006, 427.049988, 432.      , 435.5     , 428.100006,\n",
              "       443.5     , 430.      , 437.      , 432.      , 436.      ,\n",
              "       438.450012, 436.      , 434.      , 444.399994, 450.      ,\n",
              "       455.899994, 456.5     , 450.      , 457.      , 450.799988,\n",
              "       441.799988, 430.      , 436.75    , 431.      , 444.5     ,\n",
              "       442.049988, 432.75    , 433.899994, 429.25    , 434.799988,\n",
              "       440.200012, 437.950012, 437.950012, 429.      , 418.850006,\n",
              "       407.149994, 400.      , 396.      , 382.      , 387.      ,\n",
              "       411.899994, 408.399994, 424.      , 400.      , 410.      ,\n",
              "       421.649994, 423.899994, 428.450012, 422.      , 426.049988,\n",
              "       437.      , 443.950012, 445.100006, 445.      , 444.899994,\n",
              "       427.899994, 432.5     , 438.700012, 431.899994, 423.      ,\n",
              "       414.899994, 403.      , 410.      , 420.      , 387.950012,\n",
              "       390.549988, 389.      , 396.399994, 396.299988, 410.      ,\n",
              "       417.549988, 411.299988, 412.049988, 418.299988, 410.649994,\n",
              "       411.549988, 415.      , 414.      , 419.899994, 436.25    ,\n",
              "       438.049988, 433.      , 432.700012, 428.      , 430.649994,\n",
              "       443.950012, 446.75    , 454.350006, 452.950012, 456.600006,\n",
              "       456.      , 448.700012, 441.149994, 440.25    , 445.149994,\n",
              "       451.950012, 478.899994, 475.      , 473.149994, 468.899994,\n",
              "       466.      , 470.      , 482.549988, 475.75    , 479.600006,\n",
              "       490.899994, 484.      , 486.75    , 468.5     , 449.      ,\n",
              "       459.      , 466.      , 465.      , 451.      , 458.649994,\n",
              "       462.5     , 470.850006, 459.75    , 462.700012, 453.200012,\n",
              "       452.450012, 447.5     , 447.700012, 454.299988, 447.600006,\n",
              "       452.399994, 446.      , 431.5     , 430.600006, 433.950012,\n",
              "       425.      , 431.899994, 416.      , 403.899994, 394.899994,\n",
              "       411.      , 398.      , 405.5     , 406.      , 409.600006,\n",
              "       413.399994, 403.399994, 397.      , 394.549988, 396.549988,\n",
              "       407.      , 394.      , 401.      , 406.200012, 397.      ,\n",
              "       397.      , 406.      , 404.350006, 408.549988, 408.      ,\n",
              "       414.350006, 414.899994, 423.049988, 419.399994, 418.200012,\n",
              "       428.25    , 439.200012, 420.5     , 420.      , 424.      ,\n",
              "       434.899994, 436.950012, 422.      , 424.      , 425.600006,\n",
              "       421.      , 426.850006, 424.5     , 425.      , 435.      ,\n",
              "       432.5     , 435.      , 443.      , 439.      , 435.5     ,\n",
              "       428.799988, 428.      , 421.      , 419.299988, 412.      ,\n",
              "       419.950012, 420.549988, 418.850006, 417.350006, 421.899994,\n",
              "       418.      , 412.600006, 404.100006, 390.      , 380.25    ,\n",
              "       390.      , 394.      , 389.      , 391.      , 392.5     ,\n",
              "       396.      , 394.799988, 387.899994, 386.100006, 386.350006,\n",
              "       400.      , 415.75    , 420.299988, 413.      , 413.5     ,\n",
              "       413.      , 415.899994, 406.5     , 404.      , 407.      ,\n",
              "       410.      , 423.75    , 438.      , 445.600006, 443.700012,\n",
              "       456.799988, 446.75    , 447.      , 444.450012, 441.700012,\n",
              "       435.450012, 440.      , 437.950012, 445.5     , 442.      ,\n",
              "       438.5     , 445.      , 436.      , 441.799988, 445.200012,\n",
              "       435.299988, 428.649994, 435.399994, 427.75    ])"
            ]
          },
          "metadata": {},
          "execution_count": 6
        }
      ]
    },
    {
      "cell_type": "code",
      "source": [
        "\n",
        "from sklearn.linear_model import LinearRegression\n",
        "regressor = LinearRegression()\n",
        "regressor.fit(x, y)"
      ],
      "metadata": {
        "colab": {
          "base_uri": "https://localhost:8080/"
        },
        "id": "lAG4Y5XDHAH8",
        "outputId": "177c7b38-c4ff-46ad-b851-1be6cd5d7099"
      },
      "execution_count": null,
      "outputs": [
        {
          "output_type": "execute_result",
          "data": {
            "text/plain": [
              "LinearRegression()"
            ]
          },
          "metadata": {},
          "execution_count": 7
        }
      ]
    },
    {
      "cell_type": "code",
      "source": [
        "\n",
        "y_pred = regressor.predict(x)"
      ],
      "metadata": {
        "id": "9hX_IAAnHIe2"
      },
      "execution_count": null,
      "outputs": []
    },
    {
      "cell_type": "code",
      "source": [
        "plt.scatter(x, y, color = 'red')\n",
        "plt.plot(x, regressor.predict(x), color = 'blue')\n",
        "plt.xlabel('Package')\n",
        "plt.ylabel('Sales')\n",
        "plt.show()"
      ],
      "metadata": {
        "colab": {
          "base_uri": "https://localhost:8080/",
          "height": 279
        },
        "id": "iA7hkvPYHNSH",
        "outputId": "ba05703d-93f5-498c-9bfc-11e370bae68f"
      },
      "execution_count": null,
      "outputs": [
        {
          "output_type": "display_data",
          "data": {
            "text/plain": [
              "<Figure size 432x288 with 1 Axes>"
            ],
            "image/png": "[encoded data removed]"
          },
          "metadata": {
            "needs_background": "light"
          }
        }
      ]
    },
    {
      "cell_type": "code",
      "source": [],
      "metadata": {
        "id": "eHLBNinWHYWO"
      },
      "execution_count": null,
      "outputs": []
    }
  ]
}