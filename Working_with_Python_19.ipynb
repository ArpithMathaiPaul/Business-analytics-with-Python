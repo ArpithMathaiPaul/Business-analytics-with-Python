{
  "nbformat": 4,
  "nbformat_minor": 0,
  "metadata": {
    "colab": {
      "provenance": [],
      "authorship_tag": "ABX9TyNcl+NE6gHS+bn3N6Lr890J",
      "include_colab_link": true
    },
    "kernelspec": {
      "name": "python3",
      "display_name": "Python 3"
    },
    "language_info": {
      "name": "python"
    }
  },
  "cells": [
    {
      "cell_type": "markdown",
      "metadata": {
        "id": "view-in-github",
        "colab_type": "text"
      },
      "source": [
        "<a href=\"https://colab.research.google.com/github/ArpithMathaiPaul/Business-analytics-with-Python/blob/main/Working_with_Python_19.ipynb\" target=\"_parent\"><img src=\"https://colab.research.google.com/assets/colab-badge.svg\" alt=\"Open In Colab\"/></a>"
      ]
    },
    {
      "cell_type": "code",
      "execution_count": null,
      "metadata": {
        "id": "ULpkmb8gPA3Z"
      },
      "outputs": [],
      "source": [
        "def ARPITH():\n",
        "  print(\"India is my country\")"
      ]
    },
    {
      "cell_type": "code",
      "source": [
        "ARPITH()"
      ],
      "metadata": {
        "colab": {
          "base_uri": "https://localhost:8080/"
        },
        "id": "7ahM452cQPYL",
        "outputId": "61577dd0-1865-4bfa-9c82-0108ea224e17"
      },
      "execution_count": null,
      "outputs": [
        {
          "output_type": "stream",
          "name": "stdout",
          "text": [
            "India is my country\n"
          ]
        }
      ]
    },
    {
      "cell_type": "code",
      "source": [
        "def SarinCR(x):\n",
        "  print(\"Your roll number is\",x)"
      ],
      "metadata": {
        "id": "0q8gnONvQbbm"
      },
      "execution_count": null,
      "outputs": []
    },
    {
      "cell_type": "code",
      "source": [
        "x=int(input(\"Enter your roll number\"))\n",
        "SarinCR(x)"
      ],
      "metadata": {
        "colab": {
          "base_uri": "https://localhost:8080/"
        },
        "id": "8gcOgngLR1Ud",
        "outputId": "025954d2-f1db-44e4-d8ba-8dd21d5dc15e"
      },
      "execution_count": null,
      "outputs": [
        {
          "output_type": "stream",
          "name": "stdout",
          "text": [
            "Enter your roll number13\n",
            "Your roll number is 13\n"
          ]
        }
      ]
    },
    {
      "cell_type": "code",
      "source": [
        "def Arpith(x,y,z,r):\n",
        "  print(\"your name is\",x)\n",
        "  print(\"your mail address is\",y)\n",
        "  print(\"your place is\",z)\n",
        "  print(\"your roll number is\",r)\n"
      ],
      "metadata": {
        "id": "izEMfbkzSHQV"
      },
      "execution_count": null,
      "outputs": []
    },
    {
      "cell_type": "code",
      "source": [
        "x=input(\"enter your name\")\n",
        "y=input(\"enter your mail address\")\n",
        "z=input(\"enter your place\")\n",
        "r=int(input(\"enter your roll number\"))\n"
      ],
      "metadata": {
        "colab": {
          "base_uri": "https://localhost:8080/"
        },
        "id": "0z4zeuQsTC27",
        "outputId": "1d84488f-defc-4315-877d-678f4d60bdfe"
      },
      "execution_count": null,
      "outputs": [
        {
          "name": "stdout",
          "output_type": "stream",
          "text": [
            "enter your nameArpith Mathai Paul\n",
            "enter your mail addressarpithpl@gmail.com\n",
            "enter your placeKochi\n",
            "enter your roll number14\n"
          ]
        }
      ]
    },
    {
      "cell_type": "code",
      "source": [
        "Arpith(x,y,z,r)"
      ],
      "metadata": {
        "colab": {
          "base_uri": "https://localhost:8080/"
        },
        "id": "WEqrkkHRdm9v",
        "outputId": "365bc84d-e328-4ded-b798-7d188e512828"
      },
      "execution_count": null,
      "outputs": [
        {
          "output_type": "stream",
          "name": "stdout",
          "text": [
            "your name is Arpith Mathai Paul\n",
            "your mail address is arpithpl@gmail.com\n",
            "your place is Kochi\n",
            "your roll number is 14\n"
          ]
        }
      ]
    },
    {
      "cell_type": "code",
      "source": [
        "x=input(\"Enter your full name\")\n",
        "def firstname(x):\n",
        "  print(x[0:8])\n",
        "def secondname(x):\n",
        "  print(x[8:12])"
      ],
      "metadata": {
        "colab": {
          "base_uri": "https://localhost:8080/"
        },
        "id": "eLx5eoIMTbHQ",
        "outputId": "1fd3301a-9691-46c2-99b4-dd5f42753f39"
      },
      "execution_count": null,
      "outputs": [
        {
          "name": "stdout",
          "output_type": "stream",
          "text": [
            "Enter your full nameRebecca Liza Verghese\n"
          ]
        }
      ]
    },
    {
      "cell_type": "code",
      "source": [
        "firstname(x)\n",
        "secondname(x)\n"
      ],
      "metadata": {
        "colab": {
          "base_uri": "https://localhost:8080/"
        },
        "id": "W9-QWaB0b4cv",
        "outputId": "78cdbed4-baea-41e2-efe6-5ad6049b5656"
      },
      "execution_count": null,
      "outputs": [
        {
          "output_type": "stream",
          "name": "stdout",
          "text": [
            "Rebecca \n",
            "Liza\n"
          ]
        }
      ]
    },
    {
      "cell_type": "code",
      "source": [
        "txt=\"Arpith Mathai Paul\"\n",
        "x=txt.split()\n",
        "print(x[0])\n"
      ],
      "metadata": {
        "colab": {
          "base_uri": "https://localhost:8080/"
        },
        "id": "dfSwJcPpdFdI",
        "outputId": "9e6bbd24-9f16-46ec-d444-07b55a09893f"
      },
      "execution_count": null,
      "outputs": [
        {
          "output_type": "stream",
          "name": "stdout",
          "text": [
            "Arpith\n"
          ]
        }
      ]
    },
    {
      "cell_type": "code",
      "source": [
        "print(x[1])"
      ],
      "metadata": {
        "colab": {
          "base_uri": "https://localhost:8080/"
        },
        "id": "xC5jVfqKhmx5",
        "outputId": "75476b7b-0fd5-48d5-87e4-4300414ccb19"
      },
      "execution_count": null,
      "outputs": [
        {
          "output_type": "stream",
          "name": "stdout",
          "text": [
            "Mathai\n"
          ]
        }
      ]
    },
    {
      "cell_type": "code",
      "source": [
        "print(x[2])"
      ],
      "metadata": {
        "colab": {
          "base_uri": "https://localhost:8080/"
        },
        "id": "XXSn5-I6hs1M",
        "outputId": "2abae477-87c5-43d8-aaed-f1397423d76a"
      },
      "execution_count": null,
      "outputs": [
        {
          "output_type": "stream",
          "name": "stdout",
          "text": [
            "Paul\n"
          ]
        }
      ]
    },
    {
      "cell_type": "code",
      "source": [
        "n1=int(input(\"Enter one number\"))\n",
        "n2=int(input(\"Enter another number\"))\n",
        "swap(n1,n2)"
      ],
      "metadata": {
        "colab": {
          "base_uri": "https://localhost:8080/",
          "height": 235
        },
        "id": "HwF0erMRhxkr",
        "outputId": "0396d48f-63a8-4ad8-fbd0-efce24c6d84f"
      },
      "execution_count": null,
      "outputs": [
        {
          "name": "stdout",
          "output_type": "stream",
          "text": [
            "Enter one number5\n",
            "Enter another number6\n"
          ]
        },
        {
          "output_type": "error",
          "ename": "NameError",
          "evalue": "ignored",
          "traceback": [
            "\u001b[0;31m---------------------------------------------------------------------------\u001b[0m",
            "\u001b[0;31mNameError\u001b[0m                                 Traceback (most recent call last)",
            "\u001b[0;32m<ipython-input-35-7dc06410ed14>\u001b[0m in \u001b[0;36m<module>\u001b[0;34m\u001b[0m\n\u001b[1;32m      1\u001b[0m \u001b[0mn1\u001b[0m\u001b[0;34m=\u001b[0m\u001b[0mint\u001b[0m\u001b[0;34m(\u001b[0m\u001b[0minput\u001b[0m\u001b[0;34m(\u001b[0m\u001b[0;34m\"Enter one number\"\u001b[0m\u001b[0;34m)\u001b[0m\u001b[0;34m)\u001b[0m\u001b[0;34m\u001b[0m\u001b[0;34m\u001b[0m\u001b[0m\n\u001b[1;32m      2\u001b[0m \u001b[0mn2\u001b[0m\u001b[0;34m=\u001b[0m\u001b[0mint\u001b[0m\u001b[0;34m(\u001b[0m\u001b[0minput\u001b[0m\u001b[0;34m(\u001b[0m\u001b[0;34m\"Enter another number\"\u001b[0m\u001b[0;34m)\u001b[0m\u001b[0;34m)\u001b[0m\u001b[0;34m\u001b[0m\u001b[0;34m\u001b[0m\u001b[0m\n\u001b[0;32m----> 3\u001b[0;31m \u001b[0mswap\u001b[0m\u001b[0;34m(\u001b[0m\u001b[0mn1\u001b[0m\u001b[0;34m,\u001b[0m\u001b[0mn2\u001b[0m\u001b[0;34m)\u001b[0m\u001b[0;34m\u001b[0m\u001b[0;34m\u001b[0m\u001b[0m\n\u001b[0m",
            "\u001b[0;31mNameError\u001b[0m: name 'swap' is not defined"
          ]
        }
      ]
    },
    {
      "cell_type": "code",
      "source": [],
      "metadata": {
        "id": "rV6hN8Jukxai"
      },
      "execution_count": null,
      "outputs": []
    }
  ]
}