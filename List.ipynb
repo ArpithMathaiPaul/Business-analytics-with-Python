{
  "nbformat": 4,
  "nbformat_minor": 0,
  "metadata": {
    "colab": {
      "provenance": [],
      "authorship_tag": "ABX9TyOFmzNKVZX7MzZtaXSGp+6q",
      "include_colab_link": true
    },
    "kernelspec": {
      "name": "python3",
      "display_name": "Python 3"
    },
    "language_info": {
      "name": "python"
    }
  },
  "cells": [
    {
      "cell_type": "markdown",
      "metadata": {
        "id": "view-in-github",
        "colab_type": "text"
      },
      "source": [
        "<a href=\"https://colab.research.google.com/github/ArpithMathaiPaul/Business-analytics-with-Python/blob/main/List.ipynb\" target=\"_parent\"><img src=\"https://colab.research.google.com/assets/colab-badge.svg\" alt=\"Open In Colab\"/></a>"
      ]
    },
    {
      "cell_type": "code",
      "execution_count": 1,
      "metadata": {
        "colab": {
          "base_uri": "https://localhost:8080/"
        },
        "id": "dGHehnE7t0fd",
        "outputId": "8ca6a08d-9d47-4fcd-c647-ff5eadb26f9b"
      },
      "outputs": [
        {
          "output_type": "execute_result",
          "data": {
            "text/plain": [
              "18"
            ]
          },
          "metadata": {},
          "execution_count": 1
        }
      ],
      "source": [
        "x=\"Arpith Mathai Paul\"\n",
        "len(x)"
      ]
    },
    {
      "cell_type": "code",
      "source": [
        "x=[\"John\",\"Mary\",\"David\",\"Adam\"]"
      ],
      "metadata": {
        "id": "QTBn60jJvRHI"
      },
      "execution_count": 2,
      "outputs": []
    },
    {
      "cell_type": "code",
      "source": [
        "type(x)"
      ],
      "metadata": {
        "colab": {
          "base_uri": "https://localhost:8080/"
        },
        "id": "Akuj1fNEv3c8",
        "outputId": "5f3238d2-faaa-49c6-a233-a976dc29d019"
      },
      "execution_count": 3,
      "outputs": [
        {
          "output_type": "execute_result",
          "data": {
            "text/plain": [
              "list"
            ]
          },
          "metadata": {},
          "execution_count": 3
        }
      ]
    },
    {
      "cell_type": "code",
      "source": [
        "x=[\"Arpith\",9091,19,15/3/2003,\"Ernakulam\"]"
      ],
      "metadata": {
        "id": "B4Wyb7kCv6Rs"
      },
      "execution_count": 4,
      "outputs": []
    },
    {
      "cell_type": "code",
      "source": [
        "x[0]"
      ],
      "metadata": {
        "colab": {
          "base_uri": "https://localhost:8080/",
          "height": 35
        },
        "id": "UIzSeJ1GyNaY",
        "outputId": "923f1418-c0d9-475e-cc79-051e236d8c4b"
      },
      "execution_count": 6,
      "outputs": [
        {
          "output_type": "execute_result",
          "data": {
            "text/plain": [
              "'Arpith'"
            ],
            "application/vnd.google.colaboratory.intrinsic+json": {
              "type": "string"
            }
          },
          "metadata": {},
          "execution_count": 6
        }
      ]
    },
    {
      "cell_type": "code",
      "source": [
        "x[-1]"
      ],
      "metadata": {
        "colab": {
          "base_uri": "https://localhost:8080/",
          "height": 35
        },
        "id": "7usCW6EeyQr_",
        "outputId": "552447e9-e6ef-4461-8644-b9b48ce438f9"
      },
      "execution_count": 7,
      "outputs": [
        {
          "output_type": "execute_result",
          "data": {
            "text/plain": [
              "'Ernakulam'"
            ],
            "application/vnd.google.colaboratory.intrinsic+json": {
              "type": "string"
            }
          },
          "metadata": {},
          "execution_count": 7
        }
      ]
    },
    {
      "cell_type": "code",
      "source": [
        "x=[1,2,3,4,5,6,7,8,9,10]"
      ],
      "metadata": {
        "id": "DKDgFddCyTwA"
      },
      "execution_count": 8,
      "outputs": []
    },
    {
      "cell_type": "code",
      "source": [
        "x[0:1]"
      ],
      "metadata": {
        "colab": {
          "base_uri": "https://localhost:8080/"
        },
        "id": "KRC2n4DCyagY",
        "outputId": "c9c3afbb-da10-4800-e082-1ef1c2699e45"
      },
      "execution_count": 9,
      "outputs": [
        {
          "output_type": "execute_result",
          "data": {
            "text/plain": [
              "[1]"
            ]
          },
          "metadata": {},
          "execution_count": 9
        }
      ]
    },
    {
      "cell_type": "code",
      "source": [
        "x[0:5]"
      ],
      "metadata": {
        "colab": {
          "base_uri": "https://localhost:8080/"
        },
        "id": "PvWJBWbIyf1v",
        "outputId": "74dd53f2-6d93-4905-d474-6c98a497ceeb"
      },
      "execution_count": 11,
      "outputs": [
        {
          "output_type": "execute_result",
          "data": {
            "text/plain": [
              "[1, 2, 3, 4, 5]"
            ]
          },
          "metadata": {},
          "execution_count": 11
        }
      ]
    },
    {
      "cell_type": "code",
      "source": [
        "x[7:10]"
      ],
      "metadata": {
        "colab": {
          "base_uri": "https://localhost:8080/"
        },
        "id": "tIUBk7-myjRP",
        "outputId": "d2135e75-57a8-4e75-b3d7-3265c11070dc"
      },
      "execution_count": 13,
      "outputs": [
        {
          "output_type": "execute_result",
          "data": {
            "text/plain": [
              "[8, 9, 10]"
            ]
          },
          "metadata": {},
          "execution_count": 13
        }
      ]
    },
    {
      "cell_type": "code",
      "source": [
        "x[-3:]"
      ],
      "metadata": {
        "colab": {
          "base_uri": "https://localhost:8080/"
        },
        "id": "KiZdbsd0y8v4",
        "outputId": "5682f57e-1f19-4e65-ad45-91b99e4b6d28"
      },
      "execution_count": 14,
      "outputs": [
        {
          "output_type": "execute_result",
          "data": {
            "text/plain": [
              "[8, 9, 10]"
            ]
          },
          "metadata": {},
          "execution_count": 14
        }
      ]
    },
    {
      "cell_type": "code",
      "source": [
        "x[0]=4"
      ],
      "metadata": {
        "id": "lJ9KexMN0Uxo"
      },
      "execution_count": 15,
      "outputs": []
    },
    {
      "cell_type": "code",
      "source": [
        "x"
      ],
      "metadata": {
        "colab": {
          "base_uri": "https://localhost:8080/"
        },
        "id": "IkqnLg2f0xA4",
        "outputId": "b6cbbb86-0218-4b3b-9bf4-1513986fbd9b"
      },
      "execution_count": 16,
      "outputs": [
        {
          "output_type": "execute_result",
          "data": {
            "text/plain": [
              "[4, 2, 3, 4, 5, 6, 7, 8, 9, 10]"
            ]
          },
          "metadata": {},
          "execution_count": 16
        }
      ]
    },
    {
      "cell_type": "code",
      "source": [],
      "metadata": {
        "id": "_swnQpPH0zu3"
      },
      "execution_count": null,
      "outputs": []
    },
    {
      "cell_type": "code",
      "source": [
        "x=[\"Arpith\",9091,19,15/3/2003,\"Ernakulam\"]"
      ],
      "metadata": {
        "id": "Kupme7z81usK"
      },
      "execution_count": 17,
      "outputs": []
    },
    {
      "cell_type": "code",
      "source": [
        "x[4]=\"Rajagiri\""
      ],
      "metadata": {
        "id": "-umw45nR1r9N"
      },
      "execution_count": 18,
      "outputs": []
    },
    {
      "cell_type": "code",
      "source": [
        "x"
      ],
      "metadata": {
        "colab": {
          "base_uri": "https://localhost:8080/"
        },
        "id": "enItMhwj12wZ",
        "outputId": "847d7c31-110e-4096-ddbb-09e416c264e6"
      },
      "execution_count": 19,
      "outputs": [
        {
          "output_type": "execute_result",
          "data": {
            "text/plain": [
              "['Arpith', 9091, 19, 0.0024962556165751375, 'Rajagiri']"
            ]
          },
          "metadata": {},
          "execution_count": 19
        }
      ]
    },
    {
      "cell_type": "code",
      "source": [
        "x=[3,6,9,12]\n",
        "x.append(15)"
      ],
      "metadata": {
        "id": "gv2bO7_V1335"
      },
      "execution_count": 20,
      "outputs": []
    },
    {
      "cell_type": "code",
      "source": [
        "x"
      ],
      "metadata": {
        "colab": {
          "base_uri": "https://localhost:8080/"
        },
        "id": "gckS65cS5MBq",
        "outputId": "04164d48-47d5-495c-b079-7976cdddf7be"
      },
      "execution_count": 21,
      "outputs": [
        {
          "output_type": "execute_result",
          "data": {
            "text/plain": [
              "[3, 6, 9, 12, 15]"
            ]
          },
          "metadata": {},
          "execution_count": 21
        }
      ]
    },
    {
      "cell_type": "code",
      "source": [
        "x=[8,6,7,9,3,2,4,1]\n",
        "y=x.copy()\n",
        "print(y)"
      ],
      "metadata": {
        "colab": {
          "base_uri": "https://localhost:8080/"
        },
        "id": "xj0_WiTP5NJZ",
        "outputId": "c1a9119b-bbe4-431b-897d-09f5797bb845"
      },
      "execution_count": 24,
      "outputs": [
        {
          "output_type": "stream",
          "name": "stdout",
          "text": [
            "[8, 6, 7, 9, 3, 2, 4, 1]\n"
          ]
        }
      ]
    },
    {
      "cell_type": "code",
      "source": [
        "x=[\"John\",\"Mary\",\"David\",\"Adam\"]\n",
        "y=['A','B','C']\n",
        "x.extend(y)"
      ],
      "metadata": {
        "id": "nToqK_Id9TDl"
      },
      "execution_count": 25,
      "outputs": []
    },
    {
      "cell_type": "code",
      "source": [
        "x"
      ],
      "metadata": {
        "colab": {
          "base_uri": "https://localhost:8080/"
        },
        "id": "kD5vgIM7_ENn",
        "outputId": "b84fe181-aa35-4abe-d8b7-5138ec397671"
      },
      "execution_count": 26,
      "outputs": [
        {
          "output_type": "execute_result",
          "data": {
            "text/plain": [
              "['John', 'Mary', 'David', 'Adam', 'A', 'B', 'C']"
            ]
          },
          "metadata": {},
          "execution_count": 26
        }
      ]
    },
    {
      "cell_type": "code",
      "source": [
        "x=['abc',5,7,9,10,5,22]\n",
        "x.count(5)"
      ],
      "metadata": {
        "colab": {
          "base_uri": "https://localhost:8080/"
        },
        "id": "VTXdyUVY_HWO",
        "outputId": "05745194-b60c-44e1-e71c-f8162452c742"
      },
      "execution_count": 27,
      "outputs": [
        {
          "output_type": "execute_result",
          "data": {
            "text/plain": [
              "2"
            ]
          },
          "metadata": {},
          "execution_count": 27
        }
      ]
    },
    {
      "cell_type": "code",
      "source": [
        "x=[\"Navned\",\"Kevin\",\"Shalom\",\"Jano\"]\n",
        "x[1:3]=[\"Jithin\",\"George\"]\n",
        "print(x)"
      ],
      "metadata": {
        "colab": {
          "base_uri": "https://localhost:8080/"
        },
        "id": "baILEgis_bMX",
        "outputId": "6326d04a-4221-44d4-85a5-9cedc986b72f"
      },
      "execution_count": 28,
      "outputs": [
        {
          "output_type": "stream",
          "name": "stdout",
          "text": [
            "['Navned', 'Jithin', 'George', 'Jano']\n"
          ]
        }
      ]
    },
    {
      "cell_type": "code",
      "source": [
        "x=[\"Pranav\",\"Jacob\",\"Aaron\",\"Ibinu\"]\n",
        "x.insert(2,\"Joe\")\n",
        "print(x)"
      ],
      "metadata": {
        "colab": {
          "base_uri": "https://localhost:8080/"
        },
        "id": "JRKWs1vPAlZF",
        "outputId": "16688b93-17c6-43d7-9626-a04553ed7cc8"
      },
      "execution_count": 29,
      "outputs": [
        {
          "output_type": "stream",
          "name": "stdout",
          "text": [
            "['Pranav', 'Jacob', 'Joe', 'Aaron', 'Ibinu']\n"
          ]
        }
      ]
    },
    {
      "cell_type": "code",
      "source": [
        "x=[\"Nidhin\",\"Rohan\",\"Micah\",\"Jeswin\"]\n",
        "x.remove(\"Nidhin\")\n",
        "print(x)"
      ],
      "metadata": {
        "colab": {
          "base_uri": "https://localhost:8080/"
        },
        "id": "k2Z7p2wNBsHy",
        "outputId": "6ddd3a8c-b342-4b64-e383-13825464e0ce"
      },
      "execution_count": 30,
      "outputs": [
        {
          "output_type": "stream",
          "name": "stdout",
          "text": [
            "['Rohan', 'Micah', 'Jeswin']\n"
          ]
        }
      ]
    },
    {
      "cell_type": "code",
      "source": [
        "x=[\"Showjith\",\"Irene\",\"Sourav\",\"Aitken\"]\n",
        "del x[0]\n",
        "print(x)"
      ],
      "metadata": {
        "colab": {
          "base_uri": "https://localhost:8080/"
        },
        "id": "3an4Ol-kClbO",
        "outputId": "492010ed-fc82-4349-aed1-7cfa132da3db"
      },
      "execution_count": 31,
      "outputs": [
        {
          "output_type": "stream",
          "name": "stdout",
          "text": [
            "['Irene', 'Sourav', 'Aitken']\n"
          ]
        }
      ]
    },
    {
      "cell_type": "code",
      "source": [
        "x=[\"Rusail\",\"John\",\"Jonathan\",\"Farzan\"]\n",
        "del x[0:2]\n",
        "print(x)"
      ],
      "metadata": {
        "colab": {
          "base_uri": "https://localhost:8080/"
        },
        "id": "lNFgN82_DZCO",
        "outputId": "31e26413-e689-446a-a51c-1fc4025f2d69"
      },
      "execution_count": 32,
      "outputs": [
        {
          "output_type": "stream",
          "name": "stdout",
          "text": [
            "['Jonathan', 'Farzan']\n"
          ]
        }
      ]
    },
    {
      "cell_type": "code",
      "source": [],
      "metadata": {
        "id": "_KeaqJEhDp8U"
      },
      "execution_count": null,
      "outputs": []
    }
  ]
}