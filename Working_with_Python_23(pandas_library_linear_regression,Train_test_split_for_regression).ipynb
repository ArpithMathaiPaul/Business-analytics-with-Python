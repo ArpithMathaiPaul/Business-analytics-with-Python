{
  "nbformat": 4,
  "nbformat_minor": 0,
  "metadata": {
    "colab": {
      "provenance": [],
      "authorship_tag": "ABX9TyOLU+sNkLy71FJdVDwN9o3h",
      "include_colab_link": true
    },
    "kernelspec": {
      "name": "python3",
      "display_name": "Python 3"
    },
    "language_info": {
      "name": "python"
    }
  },
  "cells": [
    {
      "cell_type": "markdown",
      "metadata": {
        "id": "view-in-github",
        "colab_type": "text"
      },
      "source": [
        "<a href=\"https://colab.research.google.com/github/ArpithMathaiPaul/Business-analytics-with-Python/blob/main/Working_with_Python_23(pandas_library_linear_regression%2CTrain_test_split_for_regression).ipynb\" target=\"_parent\"><img src=\"https://colab.research.google.com/assets/colab-badge.svg\" alt=\"Open In Colab\"/></a>"
      ]
    },
    {
      "cell_type": "code",
      "execution_count": null,
      "metadata": {
        "id": "IZcjFKywHxzy"
      },
      "outputs": [],
      "source": [
        "import numpy as np\n",
        "import matplotlib.pyplot as plt\n",
        "import pandas as pd"
      ]
    },
    {
      "cell_type": "code",
      "source": [
        "dataset=pd.read_csv('TATAMOTORS.NS.csv')"
      ],
      "metadata": {
        "id": "9no9j91ZIFvP"
      },
      "execution_count": null,
      "outputs": []
    },
    {
      "cell_type": "code",
      "source": [
        "\n",
        "x = dataset.iloc[:, :-1].values"
      ],
      "metadata": {
        "id": "LH_D_r7lIREd"
      },
      "execution_count": null,
      "outputs": []
    },
    {
      "cell_type": "code",
      "source": [
        "x"
      ],
      "metadata": {
        "colab": {
          "base_uri": "https://localhost:8080/"
        },
        "id": "hK8ZtHeIIVu8",
        "outputId": "97c41603-21e4-4fb9-9f60-377169fa0b80"
      },
      "execution_count": null,
      "outputs": [
        {
          "output_type": "execute_result",
          "data": {
            "text/plain": [
              "array([[  1.],\n",
              "       [  2.],\n",
              "       [  3.],\n",
              "       [  4.],\n",
              "       [  5.],\n",
              "       [  6.],\n",
              "       [  7.],\n",
              "       [  8.],\n",
              "       [  9.],\n",
              "       [ 10.],\n",
              "       [ 11.],\n",
              "       [ 12.],\n",
              "       [ 13.],\n",
              "       [ 14.],\n",
              "       [ 15.],\n",
              "       [ 16.],\n",
              "       [ 17.],\n",
              "       [ 18.],\n",
              "       [ 19.],\n",
              "       [ 20.],\n",
              "       [ 21.],\n",
              "       [ 22.],\n",
              "       [ 23.],\n",
              "       [ 24.],\n",
              "       [ 25.],\n",
              "       [ 26.],\n",
              "       [ 27.],\n",
              "       [ 28.],\n",
              "       [ 29.],\n",
              "       [ 30.],\n",
              "       [ 31.],\n",
              "       [ 32.],\n",
              "       [ 33.],\n",
              "       [ 34.],\n",
              "       [ 35.],\n",
              "       [ 36.],\n",
              "       [ 37.],\n",
              "       [ 38.],\n",
              "       [ 39.],\n",
              "       [ 40.],\n",
              "       [ 41.],\n",
              "       [ 42.],\n",
              "       [ 43.],\n",
              "       [ 44.],\n",
              "       [ 45.],\n",
              "       [ 46.],\n",
              "       [ 47.],\n",
              "       [ 48.],\n",
              "       [ 49.],\n",
              "       [ 50.],\n",
              "       [ 51.],\n",
              "       [ 52.],\n",
              "       [ 53.],\n",
              "       [ 54.],\n",
              "       [ 55.],\n",
              "       [ 56.],\n",
              "       [ 57.],\n",
              "       [ 58.],\n",
              "       [ 59.],\n",
              "       [ 60.],\n",
              "       [ 61.],\n",
              "       [ 62.],\n",
              "       [ 63.],\n",
              "       [ 64.],\n",
              "       [ 65.],\n",
              "       [ 66.],\n",
              "       [ 67.],\n",
              "       [ 68.],\n",
              "       [ 69.],\n",
              "       [ 70.],\n",
              "       [ 71.],\n",
              "       [ 72.],\n",
              "       [ 73.],\n",
              "       [ 74.],\n",
              "       [ 75.],\n",
              "       [ 76.],\n",
              "       [ 77.],\n",
              "       [ 78.],\n",
              "       [ 79.],\n",
              "       [ 80.],\n",
              "       [ 81.],\n",
              "       [ 82.],\n",
              "       [ 83.],\n",
              "       [ 84.],\n",
              "       [ 85.],\n",
              "       [ 86.],\n",
              "       [ 87.],\n",
              "       [ 88.],\n",
              "       [ 89.],\n",
              "       [ 90.],\n",
              "       [ 91.],\n",
              "       [ 92.],\n",
              "       [ 93.],\n",
              "       [ 94.],\n",
              "       [ 95.],\n",
              "       [ 96.],\n",
              "       [ 97.],\n",
              "       [ 98.],\n",
              "       [ 99.],\n",
              "       [100.],\n",
              "       [101.],\n",
              "       [102.],\n",
              "       [103.],\n",
              "       [104.],\n",
              "       [105.],\n",
              "       [106.],\n",
              "       [107.],\n",
              "       [108.],\n",
              "       [109.],\n",
              "       [110.],\n",
              "       [111.],\n",
              "       [112.],\n",
              "       [113.],\n",
              "       [114.],\n",
              "       [115.],\n",
              "       [116.],\n",
              "       [117.],\n",
              "       [118.],\n",
              "       [119.],\n",
              "       [120.],\n",
              "       [121.],\n",
              "       [122.],\n",
              "       [123.],\n",
              "       [124.],\n",
              "       [125.],\n",
              "       [126.],\n",
              "       [127.],\n",
              "       [128.],\n",
              "       [129.],\n",
              "       [130.],\n",
              "       [131.],\n",
              "       [132.],\n",
              "       [133.],\n",
              "       [134.],\n",
              "       [135.],\n",
              "       [136.],\n",
              "       [137.],\n",
              "       [138.],\n",
              "       [139.],\n",
              "       [140.],\n",
              "       [141.],\n",
              "       [142.],\n",
              "       [143.],\n",
              "       [144.],\n",
              "       [145.],\n",
              "       [146.],\n",
              "       [147.],\n",
              "       [148.],\n",
              "       [149.],\n",
              "       [150.],\n",
              "       [151.],\n",
              "       [152.],\n",
              "       [153.],\n",
              "       [154.],\n",
              "       [155.],\n",
              "       [156.],\n",
              "       [157.],\n",
              "       [158.],\n",
              "       [159.],\n",
              "       [160.],\n",
              "       [161.],\n",
              "       [162.],\n",
              "       [163.],\n",
              "       [164.],\n",
              "       [165.],\n",
              "       [166.],\n",
              "       [167.],\n",
              "       [168.],\n",
              "       [169.],\n",
              "       [170.],\n",
              "       [171.],\n",
              "       [172.],\n",
              "       [173.],\n",
              "       [174.],\n",
              "       [175.],\n",
              "       [176.],\n",
              "       [177.],\n",
              "       [178.],\n",
              "       [179.],\n",
              "       [180.],\n",
              "       [181.],\n",
              "       [182.],\n",
              "       [183.],\n",
              "       [184.],\n",
              "       [185.],\n",
              "       [186.],\n",
              "       [187.],\n",
              "       [188.],\n",
              "       [189.],\n",
              "       [190.],\n",
              "       [191.],\n",
              "       [192.],\n",
              "       [193.],\n",
              "       [194.],\n",
              "       [195.],\n",
              "       [196.],\n",
              "       [197.],\n",
              "       [198.],\n",
              "       [199.],\n",
              "       [200.],\n",
              "       [201.],\n",
              "       [202.],\n",
              "       [203.],\n",
              "       [204.],\n",
              "       [205.],\n",
              "       [206.],\n",
              "       [207.],\n",
              "       [208.],\n",
              "       [209.],\n",
              "       [210.],\n",
              "       [211.],\n",
              "       [212.],\n",
              "       [213.],\n",
              "       [214.],\n",
              "       [215.],\n",
              "       [216.],\n",
              "       [217.],\n",
              "       [218.],\n",
              "       [219.],\n",
              "       [220.],\n",
              "       [221.],\n",
              "       [222.],\n",
              "       [223.],\n",
              "       [224.],\n",
              "       [225.],\n",
              "       [226.],\n",
              "       [227.],\n",
              "       [228.],\n",
              "       [229.],\n",
              "       [230.],\n",
              "       [231.],\n",
              "       [232.],\n",
              "       [233.],\n",
              "       [234.],\n",
              "       [235.],\n",
              "       [236.],\n",
              "       [237.],\n",
              "       [238.],\n",
              "       [239.],\n",
              "       [240.],\n",
              "       [241.],\n",
              "       [242.],\n",
              "       [243.],\n",
              "       [244.],\n",
              "       [245.],\n",
              "       [246.],\n",
              "       [247.],\n",
              "       [248.],\n",
              "       [249.]])"
            ]
          },
          "metadata": {},
          "execution_count": 4
        }
      ]
    },
    {
      "cell_type": "code",
      "source": [
        "\n",
        "y = dataset.iloc[:, -1].values"
      ],
      "metadata": {
        "id": "F167LDpvIXh9"
      },
      "execution_count": null,
      "outputs": []
    },
    {
      "cell_type": "code",
      "source": [
        "y"
      ],
      "metadata": {
        "colab": {
          "base_uri": "https://localhost:8080/"
        },
        "id": "CVBvrS0NIaoE",
        "outputId": "8176c56f-b94f-4888-955f-d76d1ec8779a"
      },
      "execution_count": null,
      "outputs": [
        {
          "output_type": "execute_result",
          "data": {
            "text/plain": [
              "array([445.      , 452.950012, 458.5     , 431.850006, 401.75    ,\n",
              "       390.5     , 394.950012, 427.      , 413.600006, 418.75    ,\n",
              "       409.850006, 427.049988, 432.      , 435.5     , 428.100006,\n",
              "       443.5     , 430.      , 437.      , 432.      , 436.      ,\n",
              "       438.450012, 436.      , 434.      , 444.399994, 450.      ,\n",
              "       455.899994, 456.5     , 450.      , 457.      , 450.799988,\n",
              "       441.799988, 430.      , 436.75    , 431.      , 444.5     ,\n",
              "       442.049988, 432.75    , 433.899994, 429.25    , 434.799988,\n",
              "       440.200012, 437.950012, 437.950012, 429.      , 418.850006,\n",
              "       407.149994, 400.      , 396.      , 382.      , 387.      ,\n",
              "       411.899994, 408.399994, 424.      , 400.      , 410.      ,\n",
              "       421.649994, 423.899994, 428.450012, 422.      , 426.049988,\n",
              "       437.      , 443.950012, 445.100006, 445.      , 444.899994,\n",
              "       427.899994, 432.5     , 438.700012, 431.899994, 423.      ,\n",
              "       414.899994, 403.      , 410.      , 420.      , 387.950012,\n",
              "       390.549988, 389.      , 396.399994, 396.299988, 410.      ,\n",
              "       417.549988, 411.299988, 412.049988, 418.299988, 410.649994,\n",
              "       411.549988, 415.      , 414.      , 419.899994, 436.25    ,\n",
              "       438.049988, 433.      , 432.700012, 428.      , 430.649994,\n",
              "       443.950012, 446.75    , 454.350006, 452.950012, 456.600006,\n",
              "       456.      , 448.700012, 441.149994, 440.25    , 445.149994,\n",
              "       451.950012, 478.899994, 475.      , 473.149994, 468.899994,\n",
              "       466.      , 470.      , 482.549988, 475.75    , 479.600006,\n",
              "       490.899994, 484.      , 486.75    , 468.5     , 449.      ,\n",
              "       459.      , 466.      , 465.      , 451.      , 458.649994,\n",
              "       462.5     , 470.850006, 459.75    , 462.700012, 453.200012,\n",
              "       452.450012, 447.5     , 447.700012, 454.299988, 447.600006,\n",
              "       452.399994, 446.      , 431.5     , 430.600006, 433.950012,\n",
              "       425.      , 431.899994, 416.      , 403.899994, 394.899994,\n",
              "       411.      , 398.      , 405.5     , 406.      , 409.600006,\n",
              "       413.399994, 403.399994, 397.      , 394.549988, 396.549988,\n",
              "       407.      , 394.      , 401.      , 406.200012, 397.      ,\n",
              "       397.      , 406.      , 404.350006, 408.549988, 408.      ,\n",
              "       414.350006, 414.899994, 423.049988, 419.399994, 418.200012,\n",
              "       428.25    , 439.200012, 420.5     , 420.      , 424.      ,\n",
              "       434.899994, 436.950012, 422.      , 424.      , 425.600006,\n",
              "       421.      , 426.850006, 424.5     , 425.      , 435.      ,\n",
              "       432.5     , 435.      , 443.      , 439.      , 435.5     ,\n",
              "       428.799988, 428.      , 421.      , 419.299988, 412.      ,\n",
              "       419.950012, 420.549988, 418.850006, 417.350006, 421.899994,\n",
              "       418.      , 412.600006, 404.100006, 390.      , 380.25    ,\n",
              "       390.      , 394.      , 389.      , 391.      , 392.5     ,\n",
              "       396.      , 394.799988, 387.899994, 386.100006, 386.350006,\n",
              "       400.      , 415.75    , 420.299988, 413.      , 413.5     ,\n",
              "       413.      , 415.899994, 406.5     , 404.      , 407.      ,\n",
              "       410.      , 423.75    , 438.      , 445.600006, 443.700012,\n",
              "       456.799988, 446.75    , 447.      , 444.450012, 441.700012,\n",
              "       435.450012, 440.      , 437.950012, 445.5     , 442.      ,\n",
              "       438.5     , 445.      , 436.      , 441.799988, 445.200012,\n",
              "       435.299988, 428.649994, 435.399994, 427.75    ])"
            ]
          },
          "metadata": {},
          "execution_count": 6
        }
      ]
    },
    {
      "cell_type": "code",
      "source": [
        "\n",
        "from sklearn.model_selection import train_test_split\n",
        "x_train, x_test, y_train, y_test = train_test_split(x, y, test_size = 0.2)"
      ],
      "metadata": {
        "id": "FV_s59TTIbZc"
      },
      "execution_count": null,
      "outputs": []
    },
    {
      "cell_type": "code",
      "source": [
        "from sklearn.linear_model import LinearRegression\n",
        "regressor = LinearRegression()\n",
        "regressor.fit(x_train, y_train)"
      ],
      "metadata": {
        "colab": {
          "base_uri": "https://localhost:8080/"
        },
        "id": "jSsSqpFaI0B1",
        "outputId": "a1a48cb6-ceb5-4197-d434-515ac5f1574f"
      },
      "execution_count": null,
      "outputs": [
        {
          "output_type": "execute_result",
          "data": {
            "text/plain": [
              "LinearRegression()"
            ]
          },
          "metadata": {},
          "execution_count": 8
        }
      ]
    },
    {
      "cell_type": "code",
      "source": [
        "y_pred = regressor.predict(x_test)"
      ],
      "metadata": {
        "id": "NI5IOQetI8Sl"
      },
      "execution_count": null,
      "outputs": []
    },
    {
      "cell_type": "code",
      "source": [
        "plt.scatter(x_test, y_test, color = 'red')\n",
        "plt.scatter(x_train, y_train, color = 'green')\n",
        "plt.plot(x_test, y_pred, color = 'blue')\n",
        "plt.xlabel('Volume')\n",
        "plt.ylabel('Profit')\n",
        "plt.show()"
      ],
      "metadata": {
        "colab": {
          "base_uri": "https://localhost:8080/",
          "height": 279
        },
        "id": "upZfDPvDI_4t",
        "outputId": "db224969-8f12-4e6a-b0f7-15f37656e956"
      },
      "execution_count": null,
      "outputs": [
        {
          "output_type": "display_data",
          "data": {
            "text/plain": [
              "<Figure size 432x288 with 1 Axes>"
            ],
            "image/png": "[encoded data removed]"
          },
          "metadata": {
            "needs_background": "light"
          }
        }
      ]
    },
    {
      "cell_type": "code",
      "source": [
        "x_questionbank=dataset.iloc[0:200,0:1].values\n",
        "print(x_questionbank)"
      ],
      "metadata": {
        "colab": {
          "base_uri": "https://localhost:8080/"
        },
        "id": "Opy5YRMBJG3N",
        "outputId": "64522d1f-58d9-445c-a930-5f07918ff08b"
      },
      "execution_count": null,
      "outputs": [
        {
          "output_type": "stream",
          "name": "stdout",
          "text": [
            "[[  1.]\n",
            " [  2.]\n",
            " [  3.]\n",
            " [  4.]\n",
            " [  5.]\n",
            " [  6.]\n",
            " [  7.]\n",
            " [  8.]\n",
            " [  9.]\n",
            " [ 10.]\n",
            " [ 11.]\n",
            " [ 12.]\n",
            " [ 13.]\n",
            " [ 14.]\n",
            " [ 15.]\n",
            " [ 16.]\n",
            " [ 17.]\n",
            " [ 18.]\n",
            " [ 19.]\n",
            " [ 20.]\n",
            " [ 21.]\n",
            " [ 22.]\n",
            " [ 23.]\n",
            " [ 24.]\n",
            " [ 25.]\n",
            " [ 26.]\n",
            " [ 27.]\n",
            " [ 28.]\n",
            " [ 29.]\n",
            " [ 30.]\n",
            " [ 31.]\n",
            " [ 32.]\n",
            " [ 33.]\n",
            " [ 34.]\n",
            " [ 35.]\n",
            " [ 36.]\n",
            " [ 37.]\n",
            " [ 38.]\n",
            " [ 39.]\n",
            " [ 40.]\n",
            " [ 41.]\n",
            " [ 42.]\n",
            " [ 43.]\n",
            " [ 44.]\n",
            " [ 45.]\n",
            " [ 46.]\n",
            " [ 47.]\n",
            " [ 48.]\n",
            " [ 49.]\n",
            " [ 50.]\n",
            " [ 51.]\n",
            " [ 52.]\n",
            " [ 53.]\n",
            " [ 54.]\n",
            " [ 55.]\n",
            " [ 56.]\n",
            " [ 57.]\n",
            " [ 58.]\n",
            " [ 59.]\n",
            " [ 60.]\n",
            " [ 61.]\n",
            " [ 62.]\n",
            " [ 63.]\n",
            " [ 64.]\n",
            " [ 65.]\n",
            " [ 66.]\n",
            " [ 67.]\n",
            " [ 68.]\n",
            " [ 69.]\n",
            " [ 70.]\n",
            " [ 71.]\n",
            " [ 72.]\n",
            " [ 73.]\n",
            " [ 74.]\n",
            " [ 75.]\n",
            " [ 76.]\n",
            " [ 77.]\n",
            " [ 78.]\n",
            " [ 79.]\n",
            " [ 80.]\n",
            " [ 81.]\n",
            " [ 82.]\n",
            " [ 83.]\n",
            " [ 84.]\n",
            " [ 85.]\n",
            " [ 86.]\n",
            " [ 87.]\n",
            " [ 88.]\n",
            " [ 89.]\n",
            " [ 90.]\n",
            " [ 91.]\n",
            " [ 92.]\n",
            " [ 93.]\n",
            " [ 94.]\n",
            " [ 95.]\n",
            " [ 96.]\n",
            " [ 97.]\n",
            " [ 98.]\n",
            " [ 99.]\n",
            " [100.]\n",
            " [101.]\n",
            " [102.]\n",
            " [103.]\n",
            " [104.]\n",
            " [105.]\n",
            " [106.]\n",
            " [107.]\n",
            " [108.]\n",
            " [109.]\n",
            " [110.]\n",
            " [111.]\n",
            " [112.]\n",
            " [113.]\n",
            " [114.]\n",
            " [115.]\n",
            " [116.]\n",
            " [117.]\n",
            " [118.]\n",
            " [119.]\n",
            " [120.]\n",
            " [121.]\n",
            " [122.]\n",
            " [123.]\n",
            " [124.]\n",
            " [125.]\n",
            " [126.]\n",
            " [127.]\n",
            " [128.]\n",
            " [129.]\n",
            " [130.]\n",
            " [131.]\n",
            " [132.]\n",
            " [133.]\n",
            " [134.]\n",
            " [135.]\n",
            " [136.]\n",
            " [137.]\n",
            " [138.]\n",
            " [139.]\n",
            " [140.]\n",
            " [141.]\n",
            " [142.]\n",
            " [143.]\n",
            " [144.]\n",
            " [145.]\n",
            " [146.]\n",
            " [147.]\n",
            " [148.]\n",
            " [149.]\n",
            " [150.]\n",
            " [151.]\n",
            " [152.]\n",
            " [153.]\n",
            " [154.]\n",
            " [155.]\n",
            " [156.]\n",
            " [157.]\n",
            " [158.]\n",
            " [159.]\n",
            " [160.]\n",
            " [161.]\n",
            " [162.]\n",
            " [163.]\n",
            " [164.]\n",
            " [165.]\n",
            " [166.]\n",
            " [167.]\n",
            " [168.]\n",
            " [169.]\n",
            " [170.]\n",
            " [171.]\n",
            " [172.]\n",
            " [173.]\n",
            " [174.]\n",
            " [175.]\n",
            " [176.]\n",
            " [177.]\n",
            " [178.]\n",
            " [179.]\n",
            " [180.]\n",
            " [181.]\n",
            " [182.]\n",
            " [183.]\n",
            " [184.]\n",
            " [185.]\n",
            " [186.]\n",
            " [187.]\n",
            " [188.]\n",
            " [189.]\n",
            " [190.]\n",
            " [191.]\n",
            " [192.]\n",
            " [193.]\n",
            " [194.]\n",
            " [195.]\n",
            " [196.]\n",
            " [197.]\n",
            " [198.]\n",
            " [199.]\n",
            " [200.]]\n"
          ]
        }
      ]
    },
    {
      "cell_type": "code",
      "source": [
        "x_test=dataset.iloc[200:249,0:1].values\n",
        "print(x_test)"
      ],
      "metadata": {
        "colab": {
          "base_uri": "https://localhost:8080/"
        },
        "id": "5KnQ8-D-Ra82",
        "outputId": "cbdd30a8-2cf7-44cb-a7f3-901e8a5fbe9c"
      },
      "execution_count": null,
      "outputs": [
        {
          "output_type": "stream",
          "name": "stdout",
          "text": [
            "[[201.]\n",
            " [202.]\n",
            " [203.]\n",
            " [204.]\n",
            " [205.]\n",
            " [206.]\n",
            " [207.]\n",
            " [208.]\n",
            " [209.]\n",
            " [210.]\n",
            " [211.]\n",
            " [212.]\n",
            " [213.]\n",
            " [214.]\n",
            " [215.]\n",
            " [216.]\n",
            " [217.]\n",
            " [218.]\n",
            " [219.]\n",
            " [220.]\n",
            " [221.]\n",
            " [222.]\n",
            " [223.]\n",
            " [224.]\n",
            " [225.]\n",
            " [226.]\n",
            " [227.]\n",
            " [228.]\n",
            " [229.]\n",
            " [230.]\n",
            " [231.]\n",
            " [232.]\n",
            " [233.]\n",
            " [234.]\n",
            " [235.]\n",
            " [236.]\n",
            " [237.]\n",
            " [238.]\n",
            " [239.]\n",
            " [240.]\n",
            " [241.]\n",
            " [242.]\n",
            " [243.]\n",
            " [244.]\n",
            " [245.]\n",
            " [246.]\n",
            " [247.]\n",
            " [248.]\n",
            " [249.]]\n"
          ]
        }
      ]
    },
    {
      "cell_type": "code",
      "source": [
        "y_test=dataset.iloc[200:249,1].values\n",
        "print(y_test)"
      ],
      "metadata": {
        "colab": {
          "base_uri": "https://localhost:8080/"
        },
        "id": "QMvnz6WpTG1I",
        "outputId": "84ca1f38-e6d7-43d4-96c8-7aeafe8e5849"
      },
      "execution_count": null,
      "outputs": [
        {
          "output_type": "stream",
          "name": "stdout",
          "text": [
            "[418.       412.600006 404.100006 390.       380.25     390.\n",
            " 394.       389.       391.       392.5      396.       394.799988\n",
            " 387.899994 386.100006 386.350006 400.       415.75     420.299988\n",
            " 413.       413.5      413.       415.899994 406.5      404.\n",
            " 407.       410.       423.75     438.       445.600006 443.700012\n",
            " 456.799988 446.75     447.       444.450012 441.700012 435.450012\n",
            " 440.       437.950012 445.5      442.       438.5      445.\n",
            " 436.       441.799988 445.200012 435.299988 428.649994 435.399994\n",
            " 427.75    ]\n"
          ]
        }
      ]
    },
    {
      "cell_type": "code",
      "source": [
        "y_questionbank=dataset.iloc[0:200,1].values\n",
        "print(y_questionbank)"
      ],
      "metadata": {
        "colab": {
          "base_uri": "https://localhost:8080/"
        },
        "id": "N4Shb52qTUJT",
        "outputId": "8e8bdc83-781f-4494-864f-916b7bc0c094"
      },
      "execution_count": null,
      "outputs": [
        {
          "output_type": "stream",
          "name": "stdout",
          "text": [
            "[445.       452.950012 458.5      431.850006 401.75     390.5\n",
            " 394.950012 427.       413.600006 418.75     409.850006 427.049988\n",
            " 432.       435.5      428.100006 443.5      430.       437.\n",
            " 432.       436.       438.450012 436.       434.       444.399994\n",
            " 450.       455.899994 456.5      450.       457.       450.799988\n",
            " 441.799988 430.       436.75     431.       444.5      442.049988\n",
            " 432.75     433.899994 429.25     434.799988 440.200012 437.950012\n",
            " 437.950012 429.       418.850006 407.149994 400.       396.\n",
            " 382.       387.       411.899994 408.399994 424.       400.\n",
            " 410.       421.649994 423.899994 428.450012 422.       426.049988\n",
            " 437.       443.950012 445.100006 445.       444.899994 427.899994\n",
            " 432.5      438.700012 431.899994 423.       414.899994 403.\n",
            " 410.       420.       387.950012 390.549988 389.       396.399994\n",
            " 396.299988 410.       417.549988 411.299988 412.049988 418.299988\n",
            " 410.649994 411.549988 415.       414.       419.899994 436.25\n",
            " 438.049988 433.       432.700012 428.       430.649994 443.950012\n",
            " 446.75     454.350006 452.950012 456.600006 456.       448.700012\n",
            " 441.149994 440.25     445.149994 451.950012 478.899994 475.\n",
            " 473.149994 468.899994 466.       470.       482.549988 475.75\n",
            " 479.600006 490.899994 484.       486.75     468.5      449.\n",
            " 459.       466.       465.       451.       458.649994 462.5\n",
            " 470.850006 459.75     462.700012 453.200012 452.450012 447.5\n",
            " 447.700012 454.299988 447.600006 452.399994 446.       431.5\n",
            " 430.600006 433.950012 425.       431.899994 416.       403.899994\n",
            " 394.899994 411.       398.       405.5      406.       409.600006\n",
            " 413.399994 403.399994 397.       394.549988 396.549988 407.\n",
            " 394.       401.       406.200012 397.       397.       406.\n",
            " 404.350006 408.549988 408.       414.350006 414.899994 423.049988\n",
            " 419.399994 418.200012 428.25     439.200012 420.5      420.\n",
            " 424.       434.899994 436.950012 422.       424.       425.600006\n",
            " 421.       426.850006 424.5      425.       435.       432.5\n",
            " 435.       443.       439.       435.5      428.799988 428.\n",
            " 421.       419.299988 412.       419.950012 420.549988 418.850006\n",
            " 417.350006 421.899994]\n"
          ]
        }
      ]
    },
    {
      "cell_type": "code",
      "source": [
        "from sklearn.linear_model import LinearRegression\n",
        "regressor=LinearRegression()\n",
        "regressor.fit(x_questionbank,y_questionbank)"
      ],
      "metadata": {
        "colab": {
          "base_uri": "https://localhost:8080/"
        },
        "id": "eYOUiN5KTid6",
        "outputId": "0d8bc290-f147-4a57-ce19-fc8816436f06"
      },
      "execution_count": null,
      "outputs": [
        {
          "output_type": "execute_result",
          "data": {
            "text/plain": [
              "LinearRegression()"
            ]
          },
          "metadata": {},
          "execution_count": 16
        }
      ]
    },
    {
      "cell_type": "code",
      "source": [
        "regressor.predict(x_test)"
      ],
      "metadata": {
        "colab": {
          "base_uri": "https://localhost:8080/"
        },
        "id": "aI9j50lgUBeS",
        "outputId": "a87d620a-96c5-487d-e8cf-b5d344d000ae"
      },
      "execution_count": null,
      "outputs": [
        {
          "output_type": "execute_result",
          "data": {
            "text/plain": [
              "array([427.88737659, 427.86283556, 427.83829453, 427.81375351,\n",
              "       427.78921248, 427.76467146, 427.74013043, 427.7155894 ,\n",
              "       427.69104838, 427.66650735, 427.64196633, 427.6174253 ,\n",
              "       427.59288427, 427.56834325, 427.54380222, 427.5192612 ,\n",
              "       427.49472017, 427.47017914, 427.44563812, 427.42109709,\n",
              "       427.39655606, 427.37201504, 427.34747401, 427.32293299,\n",
              "       427.29839196, 427.27385093, 427.24930991, 427.22476888,\n",
              "       427.20022786, 427.17568683, 427.1511458 , 427.12660478,\n",
              "       427.10206375, 427.07752273, 427.0529817 , 427.02844067,\n",
              "       427.00389965, 426.97935862, 426.9548176 , 426.93027657,\n",
              "       426.90573554, 426.88119452, 426.85665349, 426.83211247,\n",
              "       426.80757144, 426.78303041, 426.75848939, 426.73394836,\n",
              "       426.70940734])"
            ]
          },
          "metadata": {},
          "execution_count": 17
        }
      ]
    },
    {
      "cell_type": "code",
      "source": [
        "plt.scatter(x_questionbank,y_questionbank,color='green')\n",
        "plt.scatter(x_test,y_test,color='blue')\n",
        "plt.plot(x_test,regressor.predict(x_test),color=\"red\")\n",
        "plt.xlabel('Package')\n",
        "plt.ylabel('Sales')"
      ],
      "metadata": {
        "colab": {
          "base_uri": "https://localhost:8080/",
          "height": 296
        },
        "id": "LKg5KRzaUGv5",
        "outputId": "c4142999-b29b-48ca-a181-512587e94c8b"
      },
      "execution_count": null,
      "outputs": [
        {
          "output_type": "execute_result",
          "data": {
            "text/plain": [
              "Text(0, 0.5, 'Sales')"
            ]
          },
          "metadata": {},
          "execution_count": 18
        },
        {
          "output_type": "display_data",
          "data": {
            "text/plain": [
              "<Figure size 432x288 with 1 Axes>"
            ],
            "image/png": "[encoded data removed]"
          },
          "metadata": {
            "needs_background": "light"
          }
        }
      ]
    },
    {
      "cell_type": "code",
      "source": [],
      "metadata": {
        "id": "pwAJH3KyUsRp"
      },
      "execution_count": null,
      "outputs": []
    }
  ]
}