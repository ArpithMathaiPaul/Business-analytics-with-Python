{
  "nbformat": 4,
  "nbformat_minor": 0,
  "metadata": {
    "colab": {
      "provenance": [],
      "authorship_tag": "ABX9TyPy8XY6Gaq2JbIUoL00Azs0",
      "include_colab_link": true
    },
    "kernelspec": {
      "name": "python3",
      "display_name": "Python 3"
    },
    "language_info": {
      "name": "python"
    }
  },
  "cells": [
    {
      "cell_type": "markdown",
      "metadata": {
        "id": "view-in-github",
        "colab_type": "text"
      },
      "source": [
        "<a href=\"https://colab.research.google.com/github/ArpithMathaiPaul/Business-analytics-with-Python/blob/main/Working_with_Python_13(Review_'if'_condition).ipynb\" target=\"_parent\"><img src=\"https://colab.research.google.com/assets/colab-badge.svg\" alt=\"Open In Colab\"/></a>"
      ]
    },
    {
      "cell_type": "code",
      "execution_count": null,
      "metadata": {
        "colab": {
          "base_uri": "https://localhost:8080/"
        },
        "id": "ZTXSUxXoSa3w",
        "outputId": "c42e1832-375b-404a-948a-329b77201d2f"
      },
      "outputs": [
        {
          "name": "stdout",
          "output_type": "stream",
          "text": [
            "enter actual HRA100000\n",
            "enter actual rent120000\n",
            "enter basic salary300000\n"
          ]
        }
      ],
      "source": [
        "x=int(input(\"enter actual HRA\"))*12\n",
        "y=int(input(\"enter actual rent\"))*12\n",
        "z=int(input(\"enter basic salary\"))*12"
      ]
    },
    {
      "cell_type": "code",
      "source": [
        "a=z*50/100\n",
        "b=y-(z*10/100)"
      ],
      "metadata": {
        "id": "7UPMkxh3cry1"
      },
      "execution_count": null,
      "outputs": []
    },
    {
      "cell_type": "code",
      "source": [
        "if x<b and x<a:\n",
        "  print(x)\n",
        "if b<x and b<a:\n",
        "  print(b)\n",
        "if a<x and a<b:\n",
        "  print(a)"
      ],
      "metadata": {
        "colab": {
          "base_uri": "https://localhost:8080/"
        },
        "id": "rrxfHny3fZo3",
        "outputId": "fe50fefa-e9e9-4974-889f-2e2a50b75487"
      },
      "execution_count": null,
      "outputs": [
        {
          "output_type": "stream",
          "name": "stdout",
          "text": [
            "1080000.0\n"
          ]
        }
      ]
    },
    {
      "cell_type": "code",
      "source": [],
      "metadata": {
        "id": "xLhWE4C5g3GP"
      },
      "execution_count": null,
      "outputs": []
    }
  ]
}