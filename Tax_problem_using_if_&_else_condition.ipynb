{
  "nbformat": 4,
  "nbformat_minor": 0,
  "metadata": {
    "colab": {
      "provenance": [],
      "authorship_tag": "ABX9TyNCBAvsM75Jlp6yil8tinqF",
      "include_colab_link": true
    },
    "kernelspec": {
      "name": "python3",
      "display_name": "Python 3"
    },
    "language_info": {
      "name": "python"
    }
  },
  "cells": [
    {
      "cell_type": "markdown",
      "metadata": {
        "id": "view-in-github",
        "colab_type": "text"
      },
      "source": [
        "<a href=\"https://colab.research.google.com/github/ArpithMathaiPaul/Business-analytics-with-Python/blob/main/Tax_problem_using_if_%26_else_condition.ipynb\" target=\"_parent\"><img src=\"https://colab.research.google.com/assets/colab-badge.svg\" alt=\"Open In Colab\"/></a>"
      ]
    },
    {
      "cell_type": "code",
      "execution_count": null,
      "metadata": {
        "id": "fErppVEFGIVe",
        "colab": {
          "base_uri": "https://localhost:8080/"
        },
        "outputId": "31303b8a-a9dc-43c2-8fc8-8bfee57a236d"
      },
      "outputs": [
        {
          "output_type": "stream",
          "name": "stdout",
          "text": [
            "Enter the basic salary800000\n",
            "Tax: 40000.0\n"
          ]
        }
      ],
      "source": [
        "a=int(input(\"Enter the basic salary\"))\n",
        "if a<=250000:\n",
        "  print(\"You are not taxable\")\n",
        "elif a>250000 and a<=500000:\n",
        "    t=(a-250000)*5/100\n",
        "    print(\"Tax:\",t)\n",
        "elif a>500000 and a<=750000:\n",
        "      t=((a-500000)*10/100+(250000)*5/100)\n",
        "      print(\"Tax:\",t)\n",
        "elif a>750000 and a<=1000000:\n",
        "  t=((a-750000)*15/100)+((a-750000)*10/100)+((a-250000)*5/100)\n",
        "  print(\"Tax:\",t)\n",
        "else:\n",
        "  t=(((a-1000000)*20/100)+((a-1000000)*15/100)+((a-750000)*10/100)+((a-250000)*5/100))\n",
        "  print(\"Tax:\",t)"
      ]
    },
    {
      "cell_type": "code",
      "source": [],
      "metadata": {
        "id": "7EBFnYSai-R9"
      },
      "execution_count": null,
      "outputs": []
    }
  ]
}