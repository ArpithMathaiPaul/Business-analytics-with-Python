{
  "nbformat": 4,
  "nbformat_minor": 0,
  "metadata": {
    "colab": {
      "provenance": [],
      "authorship_tag": "ABX9TyPwmQH1Q1R5bJlTyaNWEtGN",
      "include_colab_link": true
    },
    "kernelspec": {
      "name": "python3",
      "display_name": "Python 3"
    },
    "language_info": {
      "name": "python"
    }
  },
  "cells": [
    {
      "cell_type": "markdown",
      "metadata": {
        "id": "view-in-github",
        "colab_type": "text"
      },
      "source": [
        "<a href=\"https://colab.research.google.com/github/ArpithMathaiPaul/Business-analytics-with-Python/blob/main/Working_with_Python_18(basics_of_Python).ipynb\" target=\"_parent\"><img src=\"https://colab.research.google.com/assets/colab-badge.svg\" alt=\"Open In Colab\"/></a>"
      ]
    },
    {
      "cell_type": "code",
      "execution_count": null,
      "metadata": {
        "colab": {
          "base_uri": "https://localhost:8080/"
        },
        "id": "iOaUJxoCybiK",
        "outputId": "9c3571f4-4974-4d02-a9f9-5345da5a1955"
      },
      "outputs": [
        {
          "output_type": "stream",
          "name": "stdout",
          "text": [
            "\"Arpith\" Mathai Paul\n"
          ]
        }
      ],
      "source": [
        "print(\"\\\"Arpith\\\" Mathai Paul\")"
      ]
    },
    {
      "cell_type": "code",
      "source": [
        "print(\"Arpith \\n Mathai Paul\")"
      ],
      "metadata": {
        "colab": {
          "base_uri": "https://localhost:8080/"
        },
        "id": "Xhq1Ht9fz-zN",
        "outputId": "2aa6e353-df8b-4feb-d893-1cfefc130dbf"
      },
      "execution_count": null,
      "outputs": [
        {
          "output_type": "stream",
          "name": "stdout",
          "text": [
            "Arpith \n",
            " Mathai Paul\n"
          ]
        }
      ]
    },
    {
      "cell_type": "code",
      "source": [
        "print(\"He's a Doctor\")"
      ],
      "metadata": {
        "colab": {
          "base_uri": "https://localhost:8080/"
        },
        "id": "A2FNbVKq04Z_",
        "outputId": "98d9065a-1b66-4849-d938-0c5c669fbb72"
      },
      "execution_count": null,
      "outputs": [
        {
          "output_type": "stream",
          "name": "stdout",
          "text": [
            "He's a Doctor\n"
          ]
        }
      ]
    },
    {
      "cell_type": "code",
      "source": [
        "X=[\"John\", \"Mary\", \"David\", \"Adam\"]\n",
        "X.insert(2,\"James\")\n",
        "print(X)"
      ],
      "metadata": {
        "colab": {
          "base_uri": "https://localhost:8080/"
        },
        "id": "_67fmHlZ2DwP",
        "outputId": "1ddbb773-9727-4364-b9a8-8d7edc36fc2e"
      },
      "execution_count": null,
      "outputs": [
        {
          "output_type": "stream",
          "name": "stdout",
          "text": [
            "['John', 'Mary', 'James', 'David', 'Adam']\n"
          ]
        }
      ]
    },
    {
      "cell_type": "code",
      "source": [
        "x=['A',\"b\",\"C\",\"K\"]\n",
        "y=int(input(\"Enter Index\"))\n",
        "n=input(\"Enter a Name\")\n",
        "x.insert(y,n)"
      ],
      "metadata": {
        "colab": {
          "base_uri": "https://localhost:8080/"
        },
        "id": "COVC9riT3hrq",
        "outputId": "97d8efce-6fd4-4ed0-f7f2-fa58e3ee65fb"
      },
      "execution_count": null,
      "outputs": [
        {
          "name": "stdout",
          "output_type": "stream",
          "text": [
            "Enter Index2\n",
            "Enter a NameFarzan\n"
          ]
        }
      ]
    },
    {
      "cell_type": "code",
      "source": [
        "def arpith():\n",
        "  y=int(input(\"Enter Index\"))\n",
        "  n=input(\"Enter a Name\")\n",
        "  x.insert(y,n)"
      ],
      "metadata": {
        "id": "diqLXAak6j_I"
      },
      "execution_count": null,
      "outputs": []
    },
    {
      "cell_type": "code",
      "source": [
        "arpith()"
      ],
      "metadata": {
        "colab": {
          "base_uri": "https://localhost:8080/"
        },
        "id": "sVy9GXD_-WMk",
        "outputId": "07c9bcaf-231c-4128-c74b-0cba534c11a0"
      },
      "execution_count": null,
      "outputs": [
        {
          "name": "stdout",
          "output_type": "stream",
          "text": [
            "Enter Index1\n",
            "Enter a NameJoe\n"
          ]
        }
      ]
    },
    {
      "cell_type": "code",
      "source": [
        "def Arpith():\n",
        "  x=int(input(\"Enter first value\"))\n",
        "  y=int(input(\"Enter second value\"))\n",
        "  print(x+y)\n"
      ],
      "metadata": {
        "id": "-zY6kWhf-qrJ"
      },
      "execution_count": null,
      "outputs": []
    },
    {
      "cell_type": "code",
      "source": [
        "Arpith()"
      ],
      "metadata": {
        "colab": {
          "base_uri": "https://localhost:8080/"
        },
        "id": "e9ShoqeNAnAR",
        "outputId": "407e1166-b3ac-4cd4-fd8d-ad868abb2535"
      },
      "execution_count": null,
      "outputs": [
        {
          "output_type": "stream",
          "name": "stdout",
          "text": [
            "Enter first value6\n",
            "Enter second value7\n",
            "13\n"
          ]
        }
      ]
    },
    {
      "cell_type": "code",
      "source": [
        "def maths(a,b):\n",
        "  print(a+b)"
      ],
      "metadata": {
        "id": "1JZg4wijBJ1A"
      },
      "execution_count": null,
      "outputs": []
    },
    {
      "cell_type": "code",
      "source": [
        "x=int(input(\"enter first value\"))\n",
        "y=int(input(\"enter second value\"))\n",
        "maths(x,y)"
      ],
      "metadata": {
        "colab": {
          "base_uri": "https://localhost:8080/"
        },
        "id": "bhI2BbhpBLCY",
        "outputId": "2adb2a62-03c5-4706-e717-07e9544f7599"
      },
      "execution_count": null,
      "outputs": [
        {
          "output_type": "stream",
          "name": "stdout",
          "text": [
            "enter first value6\n",
            "enter second value7\n",
            "13\n"
          ]
        }
      ]
    },
    {
      "cell_type": "code",
      "source": [],
      "metadata": {
        "id": "OIJLWL0GBMRw"
      },
      "execution_count": null,
      "outputs": []
    },
    {
      "cell_type": "code",
      "source": [],
      "metadata": {
        "id": "fmKcDJ1DBOIo"
      },
      "execution_count": null,
      "outputs": []
    }
  ]
}